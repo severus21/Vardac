{
 "cells": [
  {
   "cell_type": "code",
   "execution_count": 1,
   "metadata": {},
   "outputs": [],
   "source": [
    "import matplotlib.pyplot as plt\n",
    "import pandas as pd\n"
   ]
  },
  {
   "cell_type": "code",
   "execution_count": 2,
   "metadata": {},
   "outputs": [],
   "source": [
    "from asgiref.sync import sync_to_async\n"
   ]
  },
  {
   "cell_type": "code",
   "execution_count": 3,
   "metadata": {},
   "outputs": [],
   "source": [
    "\n",
    "import os\n",
    "os.environ.setdefault(\"DJANGO_SETTINGS_MODULE\", \"orm.settings\")\n",
    "os.environ[\"DJANGO_ALLOW_ASYNC_UNSAFE\"] = \"true\"\n",
    "import django\n",
    "django.setup()\n",
    "\n",
    "from src.postprocess.postprocess import *\n",
    "from src.models import *\n"
   ]
  },
  {
   "cell_type": "code",
   "execution_count": 4,
   "metadata": {},
   "outputs": [
    {
     "data": {
      "text/plain": [
       "odict_keys(['duration'])"
      ]
     },
     "execution_count": 4,
     "metadata": {},
     "output_type": "execute_result"
    }
   ],
   "source": [
    "results = await sync_to_async(Bench.objects.filter(name=\"mpp-varda-one-jvm-tracing\").order_by('-pk')[0].results.all)()\n",
    "results[0].results.keys()"
   ]
  },
  {
   "cell_type": "code",
   "execution_count": 5,
   "metadata": {},
   "outputs": [],
   "source": [
    "def pad_dict_list(dict_list, padel):\n",
    "    lmax = 0\n",
    "    for lname in dict_list.keys():\n",
    "        lmax = max(lmax, len(dict_list[lname]))\n",
    "    for lname in dict_list.keys():\n",
    "        ll = len(dict_list[lname])\n",
    "        if  ll < lmax:\n",
    "            dict_list[lname] += [padel] * (lmax - ll)\n",
    "    return dict_list"
   ]
  },
  {
   "cell_type": "code",
   "execution_count": 6,
   "metadata": {},
   "outputs": [],
   "source": [
    "def get_traces_df(prefix, n):\n",
    "    #stats1 = Stats([results[0]]).extract(\n",
    "    #    \"n\", \"durationsReception2OnMessage\", lambda x: True, \"\")\n",
    "    stats2 = Stats([results[0]]).extract(\n",
    "        \"n\", f\"{prefix}durationsReception2Dispatcher\", lambda x: True, \"\")\n",
    "    stats3 = Stats([results[0]]).extract(\n",
    "        \"n\", f\"{prefix}durationsReception2Callback\", lambda x: True, \"\")\n",
    "    stats4 = Stats([results[0]]).extract(\n",
    "        \"n\", f\"{prefix}durationsReception2EndCallback\", lambda x: True, \"\")\n",
    "    stats5 = Stats([results[0]]).extract(\n",
    "        \"n\", f\"{prefix}durationsPing\", lambda x: True, \"\")\n",
    "    stats6 = Stats([results[0]]).extract(\n",
    "        \"n\", f\"{prefix}durationsPingAfterSessionInit\", lambda x: True, \"\")\n",
    "    stats7 = Stats([results[0]]).extract(\n",
    "        \"n\", f\"{prefix}durationsPingAfterComputeSize\", lambda x: True, \"\")\n",
    "\n",
    "    duration = int(results[0].results[\"duration\"][\"value\"])\n",
    "\n",
    "    df2 = pd.DataFrame(\n",
    "        pad_dict_list({   \n",
    "            #\"durationsReception2OnMessage\": stats1[n].items, \n",
    "            \"durationsReception2Dispatcher\": stats2[n].items,\n",
    "            \"durationsReception2Callback\": stats3[n].items,  \n",
    "            \"durationsReception2EndCallback\": stats4[n].items,\n",
    "            \"durationsPing\": stats5[n].items,  \n",
    "            \"durationsPingAfterSessionInit\": stats6[n].items,  \n",
    "            \"durationsPingAfterComputeSize\": stats7[n].items,  \n",
    "        }, -1))\n",
    "    df2 = df2/1000000   #conver ns -> ms\n",
    "    df2[\"rtt\"] = Stats([results[0]]).extract(\n",
    "        \"n\", \"rtt\", lambda x: True, \"\")[n].items\n",
    "    df2[\"duration\"] = [duration for _ in range(n)] \n",
    "    return df2 "
   ]
  },
  {
   "cell_type": "code",
   "execution_count": 7,
   "metadata": {},
   "outputs": [
    {
     "data": {
      "text/plain": [
       "(0, 100)"
      ]
     },
     "execution_count": 7,
     "metadata": {},
     "output_type": "execute_result"
    }
   ],
   "source": [
    "warmup = results[0].run_config['warmup']\n",
    "n = results[0].run_config['n']\n",
    "(warmup, n)\n"
   ]
  },
  {
   "cell_type": "code",
   "execution_count": 8,
   "metadata": {},
   "outputs": [
    {
     "ename": "ValueError",
     "evalue": "invalid literal for int() with base 10: 'N/A'",
     "output_type": "error",
     "traceback": [
      "\u001b[0;31m---------------------------------------------------------------------------\u001b[0m",
      "\u001b[0;31mValueError\u001b[0m                                Traceback (most recent call last)",
      "Cell \u001b[0;32mIn [8], line 1\u001b[0m\n\u001b[0;32m----> 1\u001b[0m duration \u001b[38;5;241m=\u001b[39m \u001b[38;5;28mint\u001b[39m(results[\u001b[38;5;241m0\u001b[39m]\u001b[38;5;241m.\u001b[39mresults[\u001b[38;5;124m\"\u001b[39m\u001b[38;5;124mduration\u001b[39m\u001b[38;5;124m\"\u001b[39m][\u001b[38;5;124m\"\u001b[39m\u001b[38;5;124mvalue\u001b[39m\u001b[38;5;124m\"\u001b[39m])\n\u001b[1;32m      2\u001b[0m duration\n",
      "\u001b[0;31mValueError\u001b[0m: invalid literal for int() with base 10: 'N/A'"
     ]
    }
   ],
   "source": [
    "duration = int(results[0].results[\"duration\"][\"value\"])\n",
    "duration"
   ]
  },
  {
   "cell_type": "code",
   "execution_count": null,
   "metadata": {},
   "outputs": [],
   "source": [
    "def get_network_df(prefix, n):\n",
    "    stats1 = Stats([results[0]]).extract(\n",
    "        \"n\", f\"{prefix}durationsFire\", lambda x: True, \"\")\n",
    "    stats2 = Stats([results[0]]).extract(\n",
    "        \"n\", f\"{prefix}durationsFireAfterChecks\", lambda x: True, \"\")\n",
    "    stats3 = Stats([results[0]]).extract(\n",
    "        \"n\", f\"{prefix}durationsFireAfterHydratation\", lambda x: True, \"\")\n",
    "    stats4 = Stats([results[0]]).extract(\n",
    "        \"n\", f\"{prefix}durationsFireAfterTell\", lambda x: True, \"\")\n",
    "\n",
    "    df2 = pd.DataFrame(\n",
    "        pad_dict_list({   \n",
    "            \"durationsFire\": stats1[n].items, \n",
    "            \"durationsFireAfterChecks\": stats2[n].items,\n",
    "            \"durationsFireAfterHydratation\": stats3[n].items,\n",
    "            \"durationsFireAfterTell\": stats4[n].items,\n",
    "        },-1))\n",
    "    df2 = df2/1000000   #conver ns -> ms\n",
    "    #df2 = df2.drop([0,1]) #get ride of the first two lines\n",
    "    return df2 "
   ]
  },
  {
   "cell_type": "code",
   "execution_count": null,
   "metadata": {},
   "outputs": [],
   "source": [
    "df_ping = get_traces_df(\"ping\", n)\n",
    "df_pong = get_traces_df(\"pong\", n)\n",
    "df_ping_session = get_network_df(\"ping\", n)\n",
    "df_pong_session = get_network_df(\"pong\", n)\n"
   ]
  },
  {
   "cell_type": "code",
   "execution_count": null,
   "metadata": {},
   "outputs": [],
   "source": [
    "df_pong.plot(\n",
    "    title=\"Tracing of the Pong actor\",\n",
    "    y=[\n",
    "        \"durationsReception2Dispatcher\", \n",
    "        \"durationsReception2Callback\",\n",
    "        \"durationsReception2EndCallback\",\n",
    "        #\"durationsReception2OnMessage\"\n",
    "    ],\n",
    "    ylabel=\"duration (ms)\",\n",
    "    xlabel=\"message id\"\n",
    ").get_figure().show()  # savefig(\"test-hist.png\")"
   ]
  },
  {
   "cell_type": "code",
   "execution_count": null,
   "metadata": {},
   "outputs": [],
   "source": [
    "df_pong_session.plot(\n",
    "    title=\"Session statistics of the Pong actor\",\n",
    "    y=[\n",
    "        \"durationsFire\",\n",
    "        \"durationsFireAfterChecks\",\n",
    "        \"durationsFireAfterHydratation\",\n",
    "        \"durationsFireAfterTell\",\n",
    "    ],\n",
    "    ylabel=\"duration (ms)\",\n",
    "    xlabel=\"message id\"\n",
    ").get_figure().show()"
   ]
  },
  {
   "cell_type": "code",
   "execution_count": null,
   "metadata": {},
   "outputs": [],
   "source": [
    "df_ping_session.plot(\n",
    "    title=\"Session statistics of the Ping actor\",\n",
    "    y=[\n",
    "        \"durationsFire\",\n",
    "        \"durationsFireAfterChecks\",\n",
    "        \"durationsFireAfterHydratation\",\n",
    "        \"durationsFireAfterTell\",\n",
    "    ],\n",
    "    ylabel=\"duration (ms)\",\n",
    "    xlabel=\"message id\"\n",
    ").get_figure().show()"
   ]
  },
  {
   "cell_type": "code",
   "execution_count": null,
   "metadata": {},
   "outputs": [],
   "source": [
    "df_ping.plot(\n",
    "    title=\"Tracing of the Ping actor\",\n",
    "    y=[\n",
    "        \"durationsReception2Dispatcher\", \n",
    "        \"durationsReception2Callback\",\n",
    "        \"durationsReception2EndCallback\",\n",
    "        \"durationsPing\",\n",
    "        \"durationsPingAfterSessionInit\",\n",
    "        \"durationsPingAfterComputeSize\",\n",
    "        \"rtt\",\n",
    "        \"duration\" \n",
    "        #\"durationsReception2OnMessage\"\n",
    "    ],\n",
    "    ylabel=\"duration (ms)\",\n",
    "    xlabel=\"message id\"\n",
    ").get_figure().show()  # savefig(\"test-hist.png\")\n"
   ]
  }
 ],
 "metadata": {
  "kernelspec": {
   "display_name": "Python 3.10.6 64-bit",
   "language": "python",
   "name": "python3"
  },
  "language_info": {
   "codemirror_mode": {
    "name": "ipython",
    "version": 3
   },
   "file_extension": ".py",
   "mimetype": "text/x-python",
   "name": "python",
   "nbconvert_exporter": "python",
   "pygments_lexer": "ipython3",
   "version": "3.10.6"
  },
  "orig_nbformat": 4,
  "vscode": {
   "interpreter": {
    "hash": "31f2aee4e71d21fbe5cf8b01ff0e069b9275f58929596ceb00d14d90e3e16cd6"
   }
  }
 },
 "nbformat": 4,
 "nbformat_minor": 2
}
